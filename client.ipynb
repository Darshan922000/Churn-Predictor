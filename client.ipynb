{
 "cells": [
  {
   "cell_type": "code",
   "execution_count": 4,
   "metadata": {},
   "outputs": [],
   "source": [
    "import pickle\n",
    "import pandas as pd"
   ]
  },
  {
   "cell_type": "code",
   "execution_count": 2,
   "metadata": {},
   "outputs": [
    {
     "name": "stdout",
     "output_type": "stream",
     "text": [
      "Model loaded successfully from 'model.pkl'\n"
     ]
    }
   ],
   "source": [
    "# Load the model from pickle file\n",
    "with open('./model/model.pkl', 'rb') as f:\n",
    "    loaded_model = pickle.load(f)\n",
    "\n",
    "print(\"Model loaded successfully from 'model.pkl'\")\n"
   ]
  },
  {
   "cell_type": "code",
   "execution_count": 8,
   "metadata": {},
   "outputs": [],
   "source": [
    "X_sample = pd.DataFrame([{'SeniorCitizen': 0,\n",
    "  'Partner': 1,\n",
    "  'Dependents': 1,\n",
    "  'tenure': -0.7564030091239073,\n",
    "  'OnlineSecurity': 0,\n",
    "  'OnlineBackup': 0,\n",
    "  'TechSupport': 0,\n",
    "  'StreamingMovies': 1,\n",
    "  'PaperlessBilling': 1,\n",
    "  'MonthlyCharges': 0.739078922339588,\n",
    "  'InternetService_Fiber optic': 1.0,\n",
    "  'InternetService_No': 0.0,\n",
    "  'PaymentMethod_Electronic check': 1.0,\n",
    "  'Contract_One year': 0.0,\n",
    "  'Contract_Two year': 0.0}])"
   ]
  },
  {
   "cell_type": "code",
   "execution_count": 18,
   "metadata": {},
   "outputs": [],
   "source": [
    "pred = loaded_model.predict_proba(X_sample)[0,1].item()"
   ]
  },
  {
   "cell_type": "code",
   "execution_count": 24,
   "metadata": {},
   "outputs": [
    {
     "name": "stdout",
     "output_type": "stream",
     "text": [
      "The 78.95% chance that customer can churn\n"
     ]
    }
   ],
   "source": [
    "if pred > 0.5:\n",
    "    print(f\"The {pred:.2%} chance that customer can churn\")\n",
    "else:\n",
    "    print(\"The customer might not churn, the churn chance is low {pred}%\")"
   ]
  },
  {
   "cell_type": "code",
   "execution_count": null,
   "metadata": {},
   "outputs": [],
   "source": [
    "# # Preload small background data (e.g., 100 rows)\n",
    "# background = X_train.sample(n=100, random_state=42)\n",
    "# explainer = shap.Explainer(model, shap.maskers.Independent(background))\n"
   ]
  },
  {
   "cell_type": "code",
   "execution_count": null,
   "metadata": {},
   "outputs": [],
   "source": [
    "# shap_values = explainer(X_input)\n",
    "# shap.plots.waterfall(shap_values[0])\n"
   ]
  }
 ],
 "metadata": {
  "kernelspec": {
   "display_name": ".venv",
   "language": "python",
   "name": "python3"
  },
  "language_info": {
   "codemirror_mode": {
    "name": "ipython",
    "version": 3
   },
   "file_extension": ".py",
   "mimetype": "text/x-python",
   "name": "python",
   "nbconvert_exporter": "python",
   "pygments_lexer": "ipython3",
   "version": "3.10.11"
  }
 },
 "nbformat": 4,
 "nbformat_minor": 2
}
